{
 "cells": [
  {
   "cell_type": "markdown",
   "metadata": {},
   "source": [
    "# Job Title and Subtitle \n",
    "\n",
    "Getting the data of the job titles and the subtitles of the competitors "
   ]
  },
  {
   "cell_type": "code",
   "execution_count": 84,
   "metadata": {},
   "outputs": [
    {
     "name": "stdout",
     "output_type": "stream",
     "text": [
      "Graduate Jobs and Internships in Singapore (286 open right now!)\n",
      "HSBC Singapore Apprenticeship Programme (Polytechnic)\n",
      "2024 Graduate Program – Singapore\n",
      "Industrial Automation - Engineering - Singapore\n",
      "Process Automation - Project Management Student Placement - Singapore\n",
      "Graduate Engineer - Application Engineering\n",
      "Business Development Executive\n",
      "Recruitment Consultant - Life Sciences\n",
      "Recruitment Consultant - Regulatory & Legal Industry\n",
      "Recruitment Consultant - Engineering and Infrastructure\n",
      "Recruitment Consultant - Financial Services Industry\n",
      "Graduate Java Developer - Singapore\n",
      "Graduate Software Engineer - Singapore\n",
      "Graduate Management Analyst - Singapore\n",
      "Graduate Production Support Analyst - Singapore\n",
      "Graduate Banking Services - Singapore\n",
      "Associate Business Programme 2024 - Consulting\n",
      "Associate Business Programme 2024 - Finance\n",
      "Operations Maintenance Manager (Mechanical)\n",
      "Energy and Sustainability Associate\n",
      "Manager, Maintenance (Electrical)\n"
     ]
    }
   ],
   "source": [
    "from selenium import webdriver\n",
    "from selenium.webdriver.common.by import By\n",
    "from selenium.webdriver.common.keys import Keys\n",
    "from selenium.webdriver.support.wait import WebDriverWait\n",
    "from selenium.webdriver.support import expected_conditions as EC\n",
    "from selenium.webdriver.support.ui import Select\n",
    "import time\n",
    "\n",
    "driver = webdriver.Chrome()\n",
    "url = \"https://sg.gradconnection.com/?gad_source=1&gclid=CjwKCAiAlJKuBhAdEiwAnZb7lQBg8aMstfwsP7MQ3y4TqqoRoO7eJqZZCLHoixYyLgSYx95bwnqHShoCz4cQAvD_BwE\"\n",
    "\n",
    "try:\n",
    "    driver.get(url)\n",
    "    print(driver.title)\n",
    "except:\n",
    "    print(\"Bad URL\")\n",
    "\n",
    "# Find Jobs\n",
    "jobs_button = driver.find_element(By.CLASS_NAME,'dropdown-nav-tab').click()\n",
    "grad_button = driver.find_element(By.CLASS_NAME,'sub-nav-tab').click()\n",
    "\n",
    "# Clicking for the Singapore Market\n",
    "location_elements = driver.find_elements(By.CLASS_NAME, 'Select__value-container')\n",
    "if len(location_elements) >= 2:\n",
    "    second_option = location_elements[1] \n",
    "    second_option.click()  \n",
    "else:\n",
    "    print(\"There isn't a second one.\")\n",
    "\n",
    "# Accessing Singapore location in the search bar\n",
    "location_input = driver.find_element(By.ID, 'react-select-7-input')\n",
    "location_input.send_keys(\"Singapore\")\n",
    "location_input.send_keys(Keys.RETURN)\n",
    "\n",
    "#Extracting the title\n",
    "try:\n",
    "    search_results = WebDriverWait(driver, 10).until(\n",
    "        EC.presence_of_element_located((By.CLASS_NAME,'jobs-container'))\n",
    "    )\n",
    "    job_title = search_results.find_elements(By.CLASS_NAME, 'box-header')\n",
    "    # job_info = search_results.find_elements(By.CLASS_NAME, '')\n",
    "    # job_desc = search_results.find_elements(By.CLASS_NAME, '')\n",
    "    for title in job_title:\n",
    "        heading = title.find_element(By.TAG_NAME,'a').text\n",
    "        print(heading)\n",
    "except:\n",
    "    print(\"fuck you FDM\")\n",
    "    driver.quit()"
   ]
  },
  {
   "cell_type": "markdown",
   "metadata": {},
   "source": [
    "# Appending each page of the result into a file\n"
   ]
  },
  {
   "cell_type": "code",
   "execution_count": 1,
   "metadata": {},
   "outputs": [
    {
     "name": "stdout",
     "output_type": "stream",
     "text": [
      "Yo Mama\n"
     ]
    }
   ],
   "source": [
    "print(\"Yo Mama\")"
   ]
  }
 ],
 "metadata": {
  "kernelspec": {
   "display_name": "Python 3",
   "language": "python",
   "name": "python3"
  },
  "language_info": {
   "codemirror_mode": {
    "name": "ipython",
    "version": 3
   },
   "file_extension": ".py",
   "mimetype": "text/x-python",
   "name": "python",
   "nbconvert_exporter": "python",
   "pygments_lexer": "ipython3",
   "version": "3.12.0"
  }
 },
 "nbformat": 4,
 "nbformat_minor": 2
}
